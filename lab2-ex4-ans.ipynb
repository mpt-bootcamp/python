{
 "cells": [
  {
   "cell_type": "code",
   "execution_count": 1,
   "metadata": {},
   "outputs": [],
   "source": [
    "import os\n",
    "import subprocess\n",
    "import sys"
   ]
  },
  {
   "cell_type": "code",
   "execution_count": 12,
   "metadata": {},
   "outputs": [],
   "source": [
    "# create three sets\n",
    "code = { \"GitHub\"}\n",
    "build = { \"Jenkins\", \"Gradle\", \"Maven\"}\n",
    "deploy = { \"Jenkins\", \"Ansible\"}"
   ]
  },
  {
   "cell_type": "code",
   "execution_count": 14,
   "metadata": {},
   "outputs": [
    {
     "name": "stdout",
     "output_type": "stream",
     "text": [
      "Union: {'Jenkins', 'Gradle', 'Maven', 'Ansible', 'GitHub'}\n",
      "Intersection:  {'Jenkins'}\n",
      "Difference:  {'Maven', 'Gradle'}\n",
      "Difference:  {'Ansible'}\n"
     ]
    }
   ],
   "source": [
    "# create an union set\n",
    "all_tools = code.union(build).union(deploy)\n",
    "\n",
    "\n",
    "print(\"Union:\", all_tools)\n",
    "print(\"Intersection: \", build.intersection(deploy))\n",
    "print(\"Difference: \", build.difference(deploy))\n",
    "print(\"Difference: \", deploy.difference(build))\n"
   ]
  },
  {
   "cell_type": "code",
   "execution_count": 27,
   "metadata": {},
   "outputs": [
    {
     "name": "stdout",
     "output_type": "stream",
     "text": [
      "Is code and build disjoint: True\n",
      "Is deploy and build disjoint: False\n",
      "is x a subset of y: True\n",
      "is y a subset of x: False\n",
      "is y a superset of x: True\n",
      "After discard 1 from y, is y a superset of x: False\n",
      "2\n"
     ]
    }
   ],
   "source": [
    "print(\"Is code and build disjoint:\", code.isdisjoint(build))\n",
    "print(\"Is deploy and build disjoint:\", deploy.isdisjoint(build))\n",
    "\n",
    "x = {1, 2}\n",
    "y = {1, 3, 2, 4, 5}\n",
    "\n",
    "print(\"is x a subset of y:\", x.issubset(y))\n",
    "print(\"is y a subset of x:\", y.issubset(x))\n",
    "print(\"is y a superset of x:\", y.issuperset(x))\n",
    "\n",
    "y.discard(1)\n",
    "print(\"After discard 1 from y, is y a superset of x:\", y.issuperset(x))\n",
    "\n",
    "for z in x.intersection(y):\n",
    "    print(z)"
   ]
  },
  {
   "cell_type": "code",
   "execution_count": null,
   "metadata": {},
   "outputs": [],
   "source": []
  }
 ],
 "metadata": {
  "kernelspec": {
   "display_name": "Python 3",
   "language": "python",
   "name": "python3"
  },
  "language_info": {
   "codemirror_mode": {
    "name": "ipython",
    "version": 3
   },
   "file_extension": ".py",
   "mimetype": "text/x-python",
   "name": "python",
   "nbconvert_exporter": "python",
   "pygments_lexer": "ipython3",
   "version": "3.7.4"
  }
 },
 "nbformat": 4,
 "nbformat_minor": 4
}
