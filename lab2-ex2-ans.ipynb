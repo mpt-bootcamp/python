{
 "cells": [
  {
   "cell_type": "code",
   "execution_count": null,
   "metadata": {},
   "outputs": [],
   "source": [
    "import os\n",
    "import subprocess\n",
    "import sys\n",
    "import json"
   ]
  },
  {
   "cell_type": "code",
   "execution_count": null,
   "metadata": {},
   "outputs": [],
   "source": [
    "# Creating a dictionary\n",
    "toolchain = {\n",
    "    \"Plan\": [\"Jira\", \"Confluence\"],\n",
    "    \"Code\": [\"Eclipse\", \"Visual Studio Code\", \"IntelliJ\"],\n",
    "    \"Build\": [\"Jenkins\", \"Gradle\", \"Maven\"],\n",
    "    \"Test\": [\"JUnit\", \"Selenium\", \"SonarQube\"],\n",
    "    \"Deploy\": [\"Jenkins\", \"Ansible\"],\n",
    "    \"Monitor\": [\"Splunk\", \"Zabbix\", \"New Relic\", \"Grafana\", \"ELK\", \"Prometheus\"]\n",
    "}\n",
    "\n",
    "print(toolchain)"
   ]
  },
  {
   "cell_type": "code",
   "execution_count": null,
   "metadata": {},
   "outputs": [],
   "source": [
    "# Accessing items\n",
    "plan = toolchain[\"Plan\"]\n",
    "print(plan)\n",
    "\n",
    "# Using the get method\n",
    "print(toolchain.get(\"Plan\"))\n",
    "\n",
    "# Loop through the item values\n",
    "for item in toolchain[\"Test\"]:\n",
    "    print(\"Test item:\", item)\n"
   ]
  },
  {
   "cell_type": "code",
   "execution_count": null,
   "metadata": {},
   "outputs": [],
   "source": [
    "# Looping through the dictionary keys\n",
    "for key in toolchain:\n",
    "    print(key, \":\", toolchain[key])\n",
    "\n",
    "# Another way to loop through the keys\n",
    "for key in toolchain.keys():\n",
    "    print(key, \":\", toolchain[key])\n",
    "    \n",
    "# Accessing the values\n",
    "for v in toolchain.values():\n",
    "    print(v)\n",
    "\n",
    "# Accessing both keys and values\n",
    "for k, v in toolchain.items():\n",
    "    print(k, \":\", v)"
   ]
  },
  {
   "cell_type": "code",
   "execution_count": null,
   "metadata": {},
   "outputs": [],
   "source": [
    "# Adding a new item\n",
    "toolchain[\"Security\"] = [\"Qualys\"]\n",
    "\n",
    "if \"Security\" in toolchain:\n",
    "    print(\"Security tools are:\", toolchain[\"Security\"])\n",
    "else:\n",
    "    print(\"Security tools are not found in the toolchain\")\n",
    "\n",
    "# Modifying an item\n",
    "toolchain[\"Security\"] = [\"Qualys\", \"Firepower\"]\n",
    "print(\"Security tools added:\", toolchain[\"Security\"])\n",
    "\n",
    "# Deleting items\n",
    "toolchain.pop(\"Security\")\n",
    "if \"Security\" in toolchain:\n",
    "    print(\"Security tools are:\", toolchain[\"Security\"])\n",
    "else:\n",
    "    print(\"Security tools are not found in the toolchain\")\n",
    "    \n",
    "print(\"Current tools:\", toolchain.keys())\n",
    "\n",
    "# Coping a dictionary\n",
    "new_toolchain = toolchain.copy()\n",
    "print(\"\\nCreated new toolchain\\n\", new_toolchain)\n",
    "\n",
    "# Remove the last added item\n",
    "print(\"Total items before popitem() =\", len(toolchain))\n",
    "toolchain.popitem()\n",
    "print(\"Total items after popitem() =\", len(toolchain))\n",
    "\n",
    "# Show items left in the dictionary\n",
    "for key in toolchain:\n",
    "    print(key, \":\", toolchain[key])"
   ]
  },
  {
   "cell_type": "code",
   "execution_count": 45,
   "metadata": {},
   "outputs": [
    {
     "name": "stdout",
     "output_type": "stream",
     "text": [
      "Convert a dictionary to a json object\n",
      "{\"Plan\": [\"Jira\", \"Confluence\"], \"Code\": [\"Eclipse\", \"Visual Studio Code\", \"IntelliJ\"], \"Build\": [\"Jenkins\", \"Gradle\", \"Maven\"]}\n",
      "<class 'str'>\n",
      "Convert a json string back a dictionary:\n",
      "{'Plan': ['Jira', 'Confluence'], 'Code': ['Eclipse', 'Visual Studio Code', 'IntelliJ'], 'Build': ['Jenkins', 'Gradle', 'Maven']}\n",
      "<class 'dict'>\n"
     ]
    }
   ],
   "source": [
    "print(\"Convert a dictionary to a json object\")\n",
    "toolchain_json = json.dumps(new_toolchain)\n",
    "print(toolchain_json)\n",
    "print(type(toolchain_json))\n",
    "\n",
    "print(\"Convert a json string back a dictionary:\")\n",
    "toolchain_dict = json.loads(toolchain_json)\n",
    "print(toolchain_dict)\n",
    "print(type(toolchain_dict))"
   ]
  },
  {
   "cell_type": "code",
   "execution_count": null,
   "metadata": {},
   "outputs": [],
   "source": []
  }
 ],
 "metadata": {
  "kernelspec": {
   "display_name": "Python 3",
   "language": "python",
   "name": "python3"
  },
  "language_info": {
   "codemirror_mode": {
    "name": "ipython",
    "version": 3
   },
   "file_extension": ".py",
   "mimetype": "text/x-python",
   "name": "python",
   "nbconvert_exporter": "python",
   "pygments_lexer": "ipython3",
   "version": "3.7.4"
  }
 },
 "nbformat": 4,
 "nbformat_minor": 4
}
