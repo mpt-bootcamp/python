{
 "cells": [
  {
   "cell_type": "code",
   "execution_count": 2,
   "metadata": {},
   "outputs": [],
   "source": [
    "import os\n",
    "import subprocess\n",
    "import sys"
   ]
  },
  {
   "cell_type": "code",
   "execution_count": 55,
   "metadata": {},
   "outputs": [],
   "source": [
    "tools = ['Jenkins', 'GitHub', 'Ansible', 'Terraform', 'Zabbix']"
   ]
  },
  {
   "cell_type": "code",
   "execution_count": 39,
   "metadata": {},
   "outputs": [
    {
     "name": "stdout",
     "output_type": "stream",
     "text": [
      "Access the list using index:\n",
      "\n",
      "0 Zabbix\n",
      "1 Terraform\n",
      "2 Jenkins\n",
      "3 GitHub\n",
      "4 Ansible\n",
      "\n",
      "Using list iterator:\n",
      "Zabbix\n",
      "Terraform\n",
      "Jenkins\n",
      "GitHub\n",
      "Ansible\n",
      "\n",
      "Using list enumerator to get the index as well:\n",
      "0 Zabbix\n",
      "1 Terraform\n",
      "2 Jenkins\n",
      "3 GitHub\n",
      "4 Ansible\n",
      "Sort list:\n",
      "['Ansible', 'GitHub', 'Jenkins', 'Terraform', 'Zabbix']\n",
      "Slice:\n",
      "['GitHub', 'Jenkins']\n",
      "['Ansible', 'GitHub', 'Jenkins']\n",
      "['Terraform', 'Zabbix']\n",
      "['Jenkins', 'Terraform']\n",
      "Reverse slice:\n",
      "Zabbix\n",
      "['GitHub', 'Jenkins']\n",
      "Reverse list:\n",
      "['Zabbix', 'Terraform', 'Jenkins', 'GitHub', 'Ansible']\n"
     ]
    }
   ],
   "source": [
    "print(\"Access the list using index:\\n\")\n",
    "for i in range(len(tools)):\n",
    "    print(i, tools[i])\n",
    "\n",
    "print(\"\\nUsing list iterator:\")\n",
    "for item in tools:\n",
    "  print(item)\n",
    "\n",
    "print(\"\\nUsing list enumerator to get the index as well:\")\n",
    "for i, item in enumerate(tools):\n",
    "  print(i, item)\n",
    "\n",
    "print(\"Sort list:\")\n",
    "# Sort\n",
    "tools.sort()\n",
    "print(tools)\n",
    "\n",
    "# Slice\n",
    "print(\"Slice:\")\n",
    "print(tools[1:3])\n",
    "print(tools[:3])\n",
    "print(tools[3:])\n",
    "print(tools[2:4])\n",
    "\n",
    "print(\"Reverse slice:\")\n",
    "print(tools[-1])\n",
    "print(tools[-4:-2])\n",
    "\n",
    "# Reverse\n",
    "print(\"Reverse list:\")\n",
    "tools.reverse()\n",
    "print(tools)"
   ]
  },
  {
   "cell_type": "code",
   "execution_count": 56,
   "metadata": {},
   "outputs": [
    {
     "name": "stdout",
     "output_type": "stream",
     "text": [
      "Stack operations - push and pop\n",
      "['Jenkins', 'GitHub', 'Ansible', 'Terraform', 'Zabbix', 'SonarQube']\n",
      "['Jenkins', 'GitHub', 'Ansible', 'Terraform', 'Zabbix']\n",
      "0\n",
      "['GitHub', 'Ansible', 'Terraform', 'Zabbix']\n",
      "number of times Terraform appears in the list = 1\n",
      "After clearing the list []\n"
     ]
    }
   ],
   "source": [
    "print(\"Stack operations - push and pop\")\n",
    "tools.append('SonarQube')\n",
    "print(tools)\n",
    "tools.pop()\n",
    "print(tools)\n",
    "\n",
    "# Find an item\n",
    "print(tools.index('Jenkins'))\n",
    "tools.remove('Jenkins')\n",
    "print(tools)\n",
    "print(\"number of times Terraform appears in the list =\", tools.count('Terraform'))\n",
    "\n",
    "# Clear the list\n",
    "tools.clear()\n",
    "print(\"After clearing the list\", tools)"
   ]
  },
  {
   "cell_type": "code",
   "execution_count": 61,
   "metadata": {},
   "outputs": [
    {
     "name": "stdout",
     "output_type": "stream",
     "text": [
      "[1, 3, 5, 7, 2, 4, 6, 8]\n"
     ]
    }
   ],
   "source": [
    "x = [1, 3, 5, 7]\n",
    "y = [2, 4, 6, 8]\n",
    "z = x + y\n",
    "print(z)"
   ]
  }
 ],
 "metadata": {
  "kernelspec": {
   "display_name": "Python 3",
   "language": "python",
   "name": "python3"
  },
  "language_info": {
   "codemirror_mode": {
    "name": "ipython",
    "version": 3
   },
   "file_extension": ".py",
   "mimetype": "text/x-python",
   "name": "python",
   "nbconvert_exporter": "python",
   "pygments_lexer": "ipython3",
   "version": "3.7.4"
  }
 },
 "nbformat": 4,
 "nbformat_minor": 4
}
